{
 "cells": [
  {
   "cell_type": "markdown",
   "id": "c7a251b6-b573-4b23-91cc-8c5b375e41d0",
   "metadata": {},
   "source": [
    "__Exercise 1: Create a Jupyter Notebook__\n",
    "\n"
   ]
  },
  {
   "cell_type": "markdown",
   "id": "2867e914-19d4-4dda-b013-dd40fd84bf98",
   "metadata": {},
   "source": [
    "__Exercise 2: Create markdown cell with title of the notebook__\n",
    "\n"
   ]
  },
  {
   "cell_type": "markdown",
   "id": "cc4bc05f-1df4-4c0b-838b-fe7b0c36f3df",
   "metadata": {
    "tags": []
   },
   "source": [
    "##  Data Science Tools and Ecosystem"
   ]
  },
  {
   "cell_type": "markdown",
   "id": "96782685-f294-4839-9646-f20d2b5a9c64",
   "metadata": {},
   "source": [
    "__Exercise 3 - Create a markdown cell for an introduction__\n",
    "\n"
   ]
  },
  {
   "cell_type": "markdown",
   "id": "e26768d9-5497-4f9c-ad55-4dc112c5e41c",
   "metadata": {},
   "source": [
    " In this notebook, Data Science Tools and Ecosystem are summarized."
   ]
  },
  {
   "cell_type": "markdown",
   "id": "91c1442d-5798-4377-927a-520051fb029c",
   "metadata": {},
   "source": [
    "__Exercise 4 - Create a markdown cell to list data science languages__\n",
    "\n"
   ]
  },
  {
   "cell_type": "markdown",
   "id": "871a5e00-a055-4f3f-bebf-b2457c69ff16",
   "metadata": {},
   "source": [
    "Some of the popular languages that Data Scientists use are:\n"
   ]
  },
  {
   "cell_type": "markdown",
   "id": "09181cf9-2070-4b28-81f9-f0cf3c8d4842",
   "metadata": {
    "tags": []
   },
   "source": [
    "1. Python\n",
    "2. R\n",
    "3. SQL\n",
    "4. Julia\n",
    "5. Java\n"
   ]
  },
  {
   "cell_type": "markdown",
   "id": "030c3a07-baa8-47c1-a1f9-edfb93099424",
   "metadata": {},
   "source": [
    "__Exercise 5 - Create a markdown cell to list data science libraries__\n",
    "\n"
   ]
  },
  {
   "cell_type": "markdown",
   "id": "873ef0bd-6236-403c-a083-c2df31592d2a",
   "metadata": {},
   "source": [
    "Some of the commonly used libraries used by Data Scientists include:\n"
   ]
  },
  {
   "cell_type": "markdown",
   "id": "176acc9d-9c7f-4807-a9f3-f1a86f052a57",
   "metadata": {},
   "source": [
    "1. NumPy\n",
    "2. TensorFlow\n",
    "3. Pandas\n",
    "4. Matplotlib\n",
    "5. PyTorch\n"
   ]
  },
  {
   "cell_type": "markdown",
   "id": "643c9e8f-507a-4dcd-a3ad-3d93a8208996",
   "metadata": {},
   "source": [
    "__Exercise 6 - Create a markdown cell with a table of Data Science tools__"
   ]
  },
  {
   "cell_type": "markdown",
   "id": "9814d039-3bb2-4386-ba61-220a34bfba1e",
   "metadata": {},
   "source": [
    "|Data Science Tools|\n",
    "|---|\n",
    "|Jupyter Notebooks|\n",
    "|RStudio|\n",
    "|Visual Studio Code|\n"
   ]
  },
  {
   "cell_type": "markdown",
   "id": "e3922d4e-9ce9-4eeb-8ee4-f137d4f83cb9",
   "metadata": {},
   "source": [
    "__Exercise 7 - Create a markdown cell introducing arithmetic expression examples__"
   ]
  },
  {
   "cell_type": "markdown",
   "id": "6b2eaab0-7503-45fa-8064-53892ca277a9",
   "metadata": {},
   "source": [
    "Below are a few examples of evaluating arithmetic expressions in Python.\n"
   ]
  },
  {
   "cell_type": "code",
   "execution_count": 18,
   "id": "17ba8565-9ea8-46db-bf76-b9520bf833a0",
   "metadata": {
    "tags": []
   },
   "outputs": [
    {
     "data": {
      "text/plain": [
       "15"
      ]
     },
     "execution_count": 18,
     "metadata": {},
     "output_type": "execute_result"
    }
   ],
   "source": [
    "5 *3"
   ]
  },
  {
   "cell_type": "code",
   "execution_count": 19,
   "id": "3f9c538e-21b0-4cc0-81af-947039832c5b",
   "metadata": {
    "tags": []
   },
   "outputs": [
    {
     "data": {
      "text/plain": [
       "15"
      ]
     },
     "execution_count": 19,
     "metadata": {},
     "output_type": "execute_result"
    }
   ],
   "source": [
    "8+7"
   ]
  },
  {
   "cell_type": "code",
   "execution_count": 20,
   "id": "9090ce62-0944-4885-9f80-08f28d191451",
   "metadata": {
    "tags": []
   },
   "outputs": [
    {
     "data": {
      "text/plain": [
       "-4"
      ]
     },
     "execution_count": 20,
     "metadata": {},
     "output_type": "execute_result"
    }
   ],
   "source": [
    "1-5"
   ]
  },
  {
   "cell_type": "markdown",
   "id": "2446a527-2bf7-4f74-a52f-b915ee4ed953",
   "metadata": {},
   "source": [
    "__Exercise 8 - Create a code cell to multiply and add numbers__\n",
    "\n"
   ]
  },
  {
   "cell_type": "markdown",
   "id": "125930da-0558-46e8-b5ce-ac13c6f79e06",
   "metadata": {},
   "source": [
    "This a simple arithmetic expression to mutiply then add integers"
   ]
  },
  {
   "cell_type": "code",
   "execution_count": 21,
   "id": "290bd808-6795-4efa-ac0a-b31ea7009da9",
   "metadata": {
    "tags": []
   },
   "outputs": [
    {
     "data": {
      "text/plain": [
       "17"
      ]
     },
     "execution_count": 21,
     "metadata": {},
     "output_type": "execute_result"
    }
   ],
   "source": [
    "(3*4)+5"
   ]
  },
  {
   "cell_type": "markdown",
   "id": "a9ddc857-2958-4acb-a071-ca4212469629",
   "metadata": {},
   "source": [
    "__Exercise 9 - Create a code cell to convert minutes to hours__"
   ]
  },
  {
   "cell_type": "markdown",
   "id": "35f29034-d560-4613-b2e8-a088ada2efba",
   "metadata": {},
   "source": [
    "This will convert 200 minutes to hours by diving by 60"
   ]
  },
  {
   "cell_type": "code",
   "execution_count": 22,
   "id": "0239b08d-08f4-4cec-b79f-e94106b1b9fa",
   "metadata": {
    "tags": []
   },
   "outputs": [
    {
     "name": "stdout",
     "output_type": "stream",
     "text": [
      "200 minutes is equal to 3.3333333333333335 hours.\n"
     ]
    }
   ],
   "source": [
    "minutes = 200\n",
    "hours = minutes/60\n",
    "print(\"200 minutes is equal to\", hours, \"hours.\")"
   ]
  },
  {
   "cell_type": "markdown",
   "id": "81d2a471-b134-44a2-b733-68bdac53ce43",
   "metadata": {},
   "source": [
    "__Exercise 10 - Insert a markdown cell to list Objectives__"
   ]
  },
  {
   "cell_type": "markdown",
   "id": "04250d7a-fc9f-4daa-b37c-44144a46b920",
   "metadata": {},
   "source": [
    "Chapter for \"Tools for Data Science\"\n",
    "1. Overview of Data Science Tools\n",
    "2. Languages of Data Science\n",
    "3. Packages, APIs, Datasets and Models\n",
    "4. Jupyter Notebooks and JupyterLab\n",
    "5. RStudio & GitHub\n",
    "6. Create and Share your Jupyter Notebook\n",
    "7. [Optional] IBM Watson Studio\n"
   ]
  },
  {
   "cell_type": "markdown",
   "id": "2a596ed0-54d9-4a00-995d-34752b75a2bd",
   "metadata": {},
   "source": [
    "__Exercise 11 - Create a markdown cell to indicate the Author's name__\n"
   ]
  },
  {
   "cell_type": "markdown",
   "id": "58fb2ae1-ccc8-4b58-844c-8780900be289",
   "metadata": {},
   "source": [
    "### Author\n",
    "Annisa L"
   ]
  },
  {
   "cell_type": "code",
   "execution_count": null,
   "id": "d2041aa1-24fd-47e4-a8a7-976d2305b319",
   "metadata": {},
   "outputs": [],
   "source": []
  },
  {
   "cell_type": "code",
   "execution_count": null,
   "id": "027eb6a8-6693-4df3-904c-a9c9088f8843",
   "metadata": {},
   "outputs": [],
   "source": []
  },
  {
   "cell_type": "code",
   "execution_count": null,
   "id": "940c8d70-d0a7-4537-a0ef-4e027e954e0b",
   "metadata": {},
   "outputs": [],
   "source": []
  }
 ],
 "metadata": {
  "kernelspec": {
   "display_name": "Python",
   "language": "python",
   "name": "conda-env-python-py"
  },
  "language_info": {
   "codemirror_mode": {
    "name": "ipython",
    "version": 3
   },
   "file_extension": ".py",
   "mimetype": "text/x-python",
   "name": "python",
   "nbconvert_exporter": "python",
   "pygments_lexer": "ipython3",
   "version": "3.7.12"
  }
 },
 "nbformat": 4,
 "nbformat_minor": 5
}
